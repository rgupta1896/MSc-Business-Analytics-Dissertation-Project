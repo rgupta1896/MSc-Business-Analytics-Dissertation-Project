{
 "cells": [
  {
   "cell_type": "code",
   "execution_count": 1,
   "id": "9dcd22a7",
   "metadata": {
    "scrolled": true
   },
   "outputs": [
    {
     "name": "stdout",
     "output_type": "stream",
     "text": [
      "Requirement already satisfied: textblob in /Users/rg/anaconda3/lib/python3.11/site-packages (0.18.0.post0)\n",
      "Requirement already satisfied: nltk>=3.8 in /Users/rg/anaconda3/lib/python3.11/site-packages (from textblob) (3.8.1)\n",
      "Requirement already satisfied: click in /Users/rg/anaconda3/lib/python3.11/site-packages (from nltk>=3.8->textblob) (8.0.4)\n",
      "Requirement already satisfied: joblib in /Users/rg/anaconda3/lib/python3.11/site-packages (from nltk>=3.8->textblob) (1.2.0)\n",
      "Requirement already satisfied: regex>=2021.8.3 in /Users/rg/anaconda3/lib/python3.11/site-packages (from nltk>=3.8->textblob) (2022.7.9)\n",
      "Requirement already satisfied: tqdm in /Users/rg/anaconda3/lib/python3.11/site-packages (from nltk>=3.8->textblob) (4.65.0)\n",
      "\n",
      "\u001b[1m[\u001b[0m\u001b[34;49mnotice\u001b[0m\u001b[1;39;49m]\u001b[0m\u001b[39;49m A new release of pip is available: \u001b[0m\u001b[31;49m23.3.1\u001b[0m\u001b[39;49m -> \u001b[0m\u001b[32;49m24.2\u001b[0m\n",
      "\u001b[1m[\u001b[0m\u001b[34;49mnotice\u001b[0m\u001b[1;39;49m]\u001b[0m\u001b[39;49m To update, run: \u001b[0m\u001b[32;49m/Users/rg/anaconda3/bin/python -m pip install --upgrade pip\u001b[0m\n",
      "Note: you may need to restart the kernel to use updated packages.\n"
     ]
    }
   ],
   "source": [
    "pip install textblob"
   ]
  },
  {
   "cell_type": "code",
   "execution_count": 2,
   "id": "b182e36f",
   "metadata": {
    "scrolled": true
   },
   "outputs": [
    {
     "name": "stderr",
     "output_type": "stream",
     "text": [
      "/Users/rg/anaconda3/lib/python3.11/site-packages/pandas/core/arrays/masked.py:60: UserWarning: Pandas requires version '1.3.6' or newer of 'bottleneck' (version '1.3.5' currently installed).\n",
      "  from pandas.core import (\n"
     ]
    }
   ],
   "source": [
    "#Importing packages \n",
    "\n",
    "import pandas as pd\n",
    "import numpy as np\n",
    "from datetime import datetime\n",
    "import matplotlib.dates as mdates\n",
    "import json\n",
    "import csv\n",
    "import os\n",
    "import nltk\n",
    "from nltk.tokenize import word_tokenize\n",
    "from nltk.corpus import stopwords\n",
    "from nltk.stem import WordNetLemmatizer\n",
    "import re\n",
    "from textblob import TextBlob"
   ]
  },
  {
   "cell_type": "code",
   "execution_count": 3,
   "id": "7851557e",
   "metadata": {},
   "outputs": [],
   "source": [
    "#Defining functions\n",
    "\n",
    "def clean_text(text):\n",
    "    # Converting text to lowercase\n",
    "    text = text.lower()\n",
    "    # Removing special characters and digits\n",
    "    text = re.sub(r'[^a-z\\s]', '', text)\n",
    "    # Tokenizing the text using NLTK's word_tokenize\n",
    "    tokens = word_tokenize(text)\n",
    "    # Removing stopwords\n",
    "    stop_words = set(stopwords.words('english'))\n",
    "    custom_stopwords = ['dollar', 'market', 'price', 'column']\n",
    "    stop_words.update(custom_stopwords)  # adding stopwords to the basic list\n",
    "    tokens = [word for word in tokens if word not in stop_words]\n",
    "    # Lemmatization\n",
    "    lemmatizer = WordNetLemmatizer()\n",
    "    lemmatized_tokens = [lemmatizer.lemmatize(word) for word in tokens]\n",
    "    # Joining tokens back to string\n",
    "    cleaned_text = ' '.join(lemmatized_tokens)\n",
    "    return cleaned_text\n",
    "    \n",
    "    \n",
    "#Tokenizer function \n",
    "def tokenize_data(tokenizer, df):\n",
    "    return tokenizer(df['clean_text'].tolist(), padding=True, truncation=True, max_length=512)"
   ]
  },
  {
   "cell_type": "code",
   "execution_count": 4,
   "id": "f936c404",
   "metadata": {},
   "outputs": [],
   "source": [
    "#Setting the environment variable to disable the memory limit safeguard\n",
    "os.environ['PYTORCH_MPS_HIGH_WATERMARK_RATIO'] = '0.0'"
   ]
  },
  {
   "cell_type": "code",
   "execution_count": 5,
   "id": "9d154a4e",
   "metadata": {},
   "outputs": [
    {
     "name": "stderr",
     "output_type": "stream",
     "text": [
      "[nltk_data] Downloading package stopwords to /Users/rg/nltk_data...\n",
      "[nltk_data]   Package stopwords is already up-to-date!\n",
      "[nltk_data] Downloading package punkt to /Users/rg/nltk_data...\n",
      "[nltk_data]   Package punkt is already up-to-date!\n",
      "[nltk_data] Downloading package wordnet to /Users/rg/nltk_data...\n",
      "[nltk_data]   Package wordnet is already up-to-date!\n",
      "[nltk_data] Downloading package omw-1.4 to /Users/rg/nltk_data...\n",
      "[nltk_data]   Package omw-1.4 is already up-to-date!\n",
      "[nltk_data] Downloading package averaged_perceptron_tagger to\n",
      "[nltk_data]     /Users/rg/nltk_data...\n",
      "[nltk_data]   Package averaged_perceptron_tagger is already up-to-\n",
      "[nltk_data]       date!\n"
     ]
    },
    {
     "data": {
      "text/plain": [
       "True"
      ]
     },
     "execution_count": 5,
     "metadata": {},
     "output_type": "execute_result"
    }
   ],
   "source": [
    "#Downloads for text-processing \n",
    "\n",
    "nltk.download('stopwords')\n",
    "nltk.download('punkt')\n",
    "nltk.download('wordnet')\n",
    "nltk.download('omw-1.4')\n",
    "nltk.download('averaged_perceptron_tagger')"
   ]
  },
  {
   "cell_type": "markdown",
   "id": "88654d50",
   "metadata": {},
   "source": [
    "### Sentiment Analysis - Using TextBlob"
   ]
  },
  {
   "cell_type": "code",
   "execution_count": 6,
   "id": "55a0e0aa",
   "metadata": {},
   "outputs": [],
   "source": [
    "#Reading-in unlabeled dataset \n",
    "\n",
    "news = pd.read_csv('./news_text.csv')"
   ]
  },
  {
   "cell_type": "code",
   "execution_count": 7,
   "id": "e11855fa",
   "metadata": {},
   "outputs": [],
   "source": [
    "#Converting text to string object\n",
    "news['articlesShortDescription'] = news['articlesShortDescription'].astype(str)"
   ]
  },
  {
   "cell_type": "code",
   "execution_count": 8,
   "id": "80dc08a6",
   "metadata": {},
   "outputs": [],
   "source": [
    "#Cleaning and preparing the text data for the model\n",
    "news['clean_text'] = news['articlesShortDescription'].apply(clean_text)"
   ]
  },
  {
   "cell_type": "markdown",
   "id": "63143d5b",
   "metadata": {},
   "source": [
    "### Sentiment Analysis on Full Unlabeled Dataset"
   ]
  },
  {
   "cell_type": "code",
   "execution_count": 9,
   "id": "db480c35",
   "metadata": {},
   "outputs": [
    {
     "data": {
      "image/png": "[encoded data removed]",
      "text/plain": [
       "<Figure size 640x480 with 1 Axes>"
      ]
     },
     "metadata": {},
     "output_type": "display_data"
    }
   ],
   "source": [
    "#Making predictions on unlabeled dataset using TextBlob\n",
    "\n",
    "sentiment_pred=[]\n",
    "subjectivity_pred=[]\n",
    "sentiment_score_pred=[]\n",
    "\n",
    "#Passing news data through for-loop \n",
    "for i in news['clean_text'].values:\n",
    "    text = TextBlob(i)\n",
    "    sentiment_score_pred.append(text.sentiment[0])\n",
    "    if text.sentiment[0]<0:\n",
    "        sentiment_pred.append('Negative')\n",
    "    elif text.sentiment[0]>0:\n",
    "        sentiment_pred.append('Positive')\n",
    "    else:\n",
    "        sentiment_pred.append('Neutral')\n",
    "    subjectivity_pred.append(text.sentiment[1])\n",
    "\n",
    "news['Polarity']=sentiment_score_pred\n",
    "news['Subjectivity']=subjectivity_pred\n",
    "news['Overall Sentiment']=sentiment_pred\n",
    "\n",
    "news['Overall Sentiment'].hist()\n",
    "\n",
    "news_sentiment_TB = news.copy() \n",
    "\n",
    "# news_sentiment_TB.to_csv('news_sentiment_TB', index=False) #saving as CSV "
   ]
  },
  {
   "cell_type": "code",
   "execution_count": 10,
   "id": "35e88de4",
   "metadata": {},
   "outputs": [
    {
     "data": {
      "text/html": [
       "<div>\n",
       "<style scoped>\n",
       "    .dataframe tbody tr th:only-of-type {\n",
       "        vertical-align: middle;\n",
       "    }\n",
       "\n",
       "    .dataframe tbody tr th {\n",
       "        vertical-align: top;\n",
       "    }\n",
       "\n",
       "    .dataframe thead th {\n",
       "        text-align: right;\n",
       "    }\n",
       "</style>\n",
       "<table border=\"1\" class=\"dataframe\">\n",
       "  <thead>\n",
       "    <tr style=\"text-align: right;\">\n",
       "      <th></th>\n",
       "      <th>articlesShortDescription</th>\n",
       "      <th>Date</th>\n",
       "      <th>clean_text</th>\n",
       "      <th>Polarity</th>\n",
       "      <th>Subjectivity</th>\n",
       "      <th>Overall Sentiment</th>\n",
       "    </tr>\n",
       "  </thead>\n",
       "  <tbody>\n",
       "    <tr>\n",
       "      <th>0</th>\n",
       "      <td>A government-appointed panel has proposed sett...</td>\n",
       "      <td>2024-04-02 10:36:27</td>\n",
       "      <td>governmentappointed panel proposed setting ind...</td>\n",
       "      <td>0.023846</td>\n",
       "      <td>0.458974</td>\n",
       "      <td>Positive</td>\n",
       "    </tr>\n",
       "    <tr>\n",
       "      <th>1</th>\n",
       "      <td>Around 400 train drivers for BHP's Western Aus...</td>\n",
       "      <td>2023-11-20 05:37:03</td>\n",
       "      <td>around train driver bhps western australian ir...</td>\n",
       "      <td>-0.040000</td>\n",
       "      <td>0.200000</td>\n",
       "      <td>Negative</td>\n",
       "    </tr>\n",
       "    <tr>\n",
       "      <th>2</th>\n",
       "      <td>China's state planning commission will work wi...</td>\n",
       "      <td>2023-11-15 13:50:01</td>\n",
       "      <td>china state planning commission work dalian co...</td>\n",
       "      <td>0.100000</td>\n",
       "      <td>0.625000</td>\n",
       "      <td>Positive</td>\n",
       "    </tr>\n",
       "    <tr>\n",
       "      <th>3</th>\n",
       "      <td>China's state-backed Dalian Commodity Exchange...</td>\n",
       "      <td>2023-11-15 12:19:48</td>\n",
       "      <td>china statebacked dalian commodity exchange we...</td>\n",
       "      <td>0.000000</td>\n",
       "      <td>0.062500</td>\n",
       "      <td>Neutral</td>\n",
       "    </tr>\n",
       "    <tr>\n",
       "      <th>4</th>\n",
       "      <td>China's crude steel output fell for the fourth...</td>\n",
       "      <td>2023-11-15 03:49:21</td>\n",
       "      <td>china crude steel output fell fourth consecuti...</td>\n",
       "      <td>-0.433333</td>\n",
       "      <td>0.566667</td>\n",
       "      <td>Negative</td>\n",
       "    </tr>\n",
       "  </tbody>\n",
       "</table>\n",
       "</div>"
      ],
      "text/plain": [
       "                            articlesShortDescription                 Date  \\\n",
       "0  A government-appointed panel has proposed sett...  2024-04-02 10:36:27   \n",
       "1  Around 400 train drivers for BHP's Western Aus...  2023-11-20 05:37:03   \n",
       "2  China's state planning commission will work wi...  2023-11-15 13:50:01   \n",
       "3  China's state-backed Dalian Commodity Exchange...  2023-11-15 12:19:48   \n",
       "4  China's crude steel output fell for the fourth...  2023-11-15 03:49:21   \n",
       "\n",
       "                                          clean_text  Polarity  Subjectivity  \\\n",
       "0  governmentappointed panel proposed setting ind...  0.023846      0.458974   \n",
       "1  around train driver bhps western australian ir... -0.040000      0.200000   \n",
       "2  china state planning commission work dalian co...  0.100000      0.625000   \n",
       "3  china statebacked dalian commodity exchange we...  0.000000      0.062500   \n",
       "4  china crude steel output fell fourth consecuti... -0.433333      0.566667   \n",
       "\n",
       "  Overall Sentiment  \n",
       "0          Positive  \n",
       "1          Negative  \n",
       "2          Positive  \n",
       "3           Neutral  \n",
       "4          Negative  "
      ]
     },
     "execution_count": 10,
     "metadata": {},
     "output_type": "execute_result"
    }
   ],
   "source": [
    "news_sentiment_TB.head()"
   ]
  }
 ],
 "metadata": {
  "kernelspec": {
   "display_name": "Python 3 (ipykernel)",
   "language": "python",
   "name": "python3"
  },
  "language_info": {
   "codemirror_mode": {
    "name": "ipython",
    "version": 3
   },
   "file_extension": ".py",
   "mimetype": "text/x-python",
   "name": "python",
   "nbconvert_exporter": "python",
   "pygments_lexer": "ipython3",
   "version": "3.11.4"
  }
 },
 "nbformat": 4,
 "nbformat_minor": 5
}
