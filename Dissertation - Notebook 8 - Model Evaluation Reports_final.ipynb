{
 "cells": [
  {
   "cell_type": "markdown",
   "id": "e8c90999",
   "metadata": {},
   "source": [
    "# Table of Contents \n",
    "\n",
    "* [Imports & Functions](#imports-and-functions)\n",
    "* [Unrestricted Models](#unrestricted-models)\n",
    "* [Restricted Models](#restricted-models)"
   ]
  },
  {
   "cell_type": "markdown",
   "id": "809c8c8b",
   "metadata": {},
   "source": [
    "# Imports & Functions <a class=\"anchor\" id=\"imports-and-functions\"></a>"
   ]
  },
  {
   "cell_type": "code",
   "execution_count": 71,
   "id": "86e63aea",
   "metadata": {
    "scrolled": false
   },
   "outputs": [],
   "source": [
    "# Importing necessary libraries\n",
    "import numpy as np\n",
    "import pandas as pd\n",
    "import json\n",
    "import matplotlib.pyplot as plt\n",
    "import scipy.stats as stats\n",
    "import csv"
   ]
  },
  {
   "cell_type": "markdown",
   "id": "c65e6b8b",
   "metadata": {},
   "source": [
    "# Results <a class=\"anchor\" id=\"results\"></a>"
   ]
  },
  {
   "cell_type": "markdown",
   "id": "c3b0e6a9",
   "metadata": {},
   "source": [
    "## Unrestricted Models <a class=\"anchor\" id=\"unrestricted-models\"></a>"
   ]
  },
  {
   "cell_type": "markdown",
   "id": "a206fcb5",
   "metadata": {},
   "source": [
    "### Front-month"
   ]
  },
  {
   "cell_type": "markdown",
   "id": "de3e9aee",
   "metadata": {},
   "source": [
    "#### Train results "
   ]
  },
  {
   "cell_type": "code",
   "execution_count": 72,
   "id": "51d95c52",
   "metadata": {},
   "outputs": [],
   "source": [
    "#Baseline Models \n",
    "baseline_model_train_results_front = pd.read_csv('baseline_models_train_results_front.csv')\n",
    "\n",
    "#MLR\n",
    "lr_train_result_front = pd.read_csv('lr_front_train_results.csv')\n",
    "\n",
    "#Random Forest\n",
    "rf_pre_tuning_train_result_front = pd.read_csv('rf_pre_tuning_train_results_front.csv')\n",
    "rf_post_tuning_train_result_front = pd.read_csv('rf_front_train_results.csv')\n",
    "\n",
    "#Stacked Regressor \n",
    "stacked_reg_pre_tuning_train_result_front = pd.read_csv('train_stacked_reg_front_base_results.csv')\n",
    "stacked_reg_post_tuning_train_result_front = pd.read_csv('train_stacked_reg_front_results.csv')\n",
    "\n",
    "\n",
    "#RERF\n",
    "rerf_pre_tuning_train_result_front = pd.read_csv('train_rerf_base_results_front.csv')\n",
    "rerf_post_tuning_train_result = pd.read_csv('rerf_tuned_results_front.csv')"
   ]
  },
  {
   "cell_type": "markdown",
   "id": "51ed2290",
   "metadata": {},
   "source": [
    "#### Test results"
   ]
  },
  {
   "cell_type": "code",
   "execution_count": 73,
   "id": "09506dad",
   "metadata": {},
   "outputs": [],
   "source": [
    "#Baseline Models \n",
    "baseline_models_test_results_front = pd.read_csv('baseline_models_results_front.csv')\n",
    "\n",
    "#MLR\n",
    "lr_test_result_front = pd.read_csv('lr_front_final_results.csv')\n",
    "\n",
    "#Random Forest \n",
    "rf_pre_tuning_test_result_front = pd.read_csv('rf_pre_tuning_results_front.csv')\n",
    "rf_post_tuning_test_result_front = pd.read_csv('rf_tuned_front_test_results.csv')\n",
    "\n",
    "#Stacked Regressor \n",
    "stacked_reg_pre_tuning_test_result_front = pd.read_csv('stacked_reg_front_base_results.csv')\n",
    "stacked_reg_post_tuning_test_result_front = pd.read_csv('stacked_reg_front_results.csv')\n",
    "\n",
    "#RERF\n",
    "rerf_pre_tuning_test_result_front = pd.read_csv('rerf_base_results_front.csv')\n",
    "rerf_post_tuning_test_result_front = pd.read_csv('rerf_tuned_results_front.csv')"
   ]
  },
  {
   "cell_type": "markdown",
   "id": "24fc9c2f",
   "metadata": {},
   "source": [
    "### Second-Month"
   ]
  },
  {
   "cell_type": "markdown",
   "id": "ec1d7cbd",
   "metadata": {},
   "source": [
    "#### Train Results"
   ]
  },
  {
   "cell_type": "code",
   "execution_count": 74,
   "id": "8cc9f6dd",
   "metadata": {},
   "outputs": [],
   "source": [
    "#Baseline Models \n",
    "baseline_model_train_results_second = pd.read_csv('baseline_models_train_results_second.csv')\n",
    "\n",
    "#MLR\n",
    "lr_train_result_second = pd.read_csv('lr_second_train_results.csv')\n",
    "\n",
    "#Random Forest\n",
    "rf_pre_tuning_train_result_second = pd.read_csv('rf_pre_tuning_train_results_second.csv')\n",
    "rf_post_tuning_train_result_second = pd.read_csv('rf_second_train_results.csv')\n",
    "\n",
    "#Stacked Regressor \n",
    "stacked_reg_pre_tuning_train_result_second = pd.read_csv('train_stacked_reg_second_base_results.csv')\n",
    "stacked_reg_post_tuning_train_result_second = pd.read_csv('train_stacked_reg_second_results.csv')\n",
    "\n",
    "\n",
    "#RERF\n",
    "rerf_pre_tuning_train_result_second = pd.read_csv('train_rerf_base_results_second.csv')\n",
    "rerf_post_tuning_train_result_second = pd.read_csv('train_rerf_tuned_results_second.csv')"
   ]
  },
  {
   "cell_type": "markdown",
   "id": "154d3198",
   "metadata": {},
   "source": [
    "#### Test Results"
   ]
  },
  {
   "cell_type": "code",
   "execution_count": 75,
   "id": "3dbee720",
   "metadata": {},
   "outputs": [],
   "source": [
    "#Baseline Models \n",
    "baseline_models_test_results_second = pd.read_csv('baseline_models_results_second.csv')\n",
    "\n",
    "#MLR\n",
    "lr_test_result_second = pd.read_csv('lr_second_final_results.csv')\n",
    "\n",
    "#Random Forest \n",
    "rf_pre_tuning_test_result_second = pd.read_csv('rf_pre_tuning_results_second.csv')\n",
    "rf_post_tuning_test_result_second = pd.read_csv('rf_tuned_second_test_results.csv')\n",
    "\n",
    "#Stacked Regressor \n",
    "stacked_reg_pre_tuning_test_result_second = pd.read_csv('stacked_reg_second_base_results.csv')\n",
    "stacked_reg_post_tuning_test_result_second = pd.read_csv('stacked_reg_second_results.csv')\n",
    "\n",
    "#RERF\n",
    "rerf_pre_tuning_test_result_second = pd.read_csv('rerf_base_results_second.csv')\n",
    "rerf_post_tuning_test_result_second = pd.read_csv('rerf_tuned_results_second.csv')"
   ]
  },
  {
   "cell_type": "code",
   "execution_count": 76,
   "id": "6702dd80",
   "metadata": {},
   "outputs": [
    {
     "data": {
      "text/html": [
       "<div>\n",
       "<style scoped>\n",
       "    .dataframe tbody tr th:only-of-type {\n",
       "        vertical-align: middle;\n",
       "    }\n",
       "\n",
       "    .dataframe tbody tr th {\n",
       "        vertical-align: top;\n",
       "    }\n",
       "\n",
       "    .dataframe thead th {\n",
       "        text-align: right;\n",
       "    }\n",
       "</style>\n",
       "<table border=\"1\" class=\"dataframe\">\n",
       "  <thead>\n",
       "    <tr style=\"text-align: right;\">\n",
       "      <th></th>\n",
       "      <th>Model</th>\n",
       "      <th>MAE</th>\n",
       "      <th>RMSE</th>\n",
       "      <th>MAPE</th>\n",
       "      <th>R-squared</th>\n",
       "      <th>Adjusted R-squared</th>\n",
       "    </tr>\n",
       "  </thead>\n",
       "  <tbody>\n",
       "    <tr>\n",
       "      <th>0</th>\n",
       "      <td>Linear Regression</td>\n",
       "      <td>0.01666</td>\n",
       "      <td>0.024394</td>\n",
       "      <td>0.374527</td>\n",
       "      <td>0.996159</td>\n",
       "      <td>0.996145</td>\n",
       "    </tr>\n",
       "  </tbody>\n",
       "</table>\n",
       "</div>"
      ],
      "text/plain": [
       "               Model      MAE      RMSE      MAPE  R-squared  \\\n",
       "0  Linear Regression  0.01666  0.024394  0.374527   0.996159   \n",
       "\n",
       "   Adjusted R-squared  \n",
       "0            0.996145  "
      ]
     },
     "execution_count": 76,
     "metadata": {},
     "output_type": "execute_result"
    }
   ],
   "source": [
    "lr_train_result_second"
   ]
  },
  {
   "cell_type": "code",
   "execution_count": 77,
   "id": "bd47054d",
   "metadata": {},
   "outputs": [
    {
     "data": {
      "text/html": [
       "<div>\n",
       "<style scoped>\n",
       "    .dataframe tbody tr th:only-of-type {\n",
       "        vertical-align: middle;\n",
       "    }\n",
       "\n",
       "    .dataframe tbody tr th {\n",
       "        vertical-align: top;\n",
       "    }\n",
       "\n",
       "    .dataframe thead th {\n",
       "        text-align: right;\n",
       "    }\n",
       "</style>\n",
       "<table border=\"1\" class=\"dataframe\">\n",
       "  <thead>\n",
       "    <tr style=\"text-align: right;\">\n",
       "      <th></th>\n",
       "      <th>Model</th>\n",
       "      <th>MAE</th>\n",
       "      <th>RMSE</th>\n",
       "      <th>MAPE</th>\n",
       "      <th>R-squared</th>\n",
       "      <th>Adjusted R-squared</th>\n",
       "    </tr>\n",
       "  </thead>\n",
       "  <tbody>\n",
       "    <tr>\n",
       "      <th>0</th>\n",
       "      <td>Random Forest</td>\n",
       "      <td>0.00602</td>\n",
       "      <td>0.008945</td>\n",
       "      <td>0.136157</td>\n",
       "      <td>0.999476</td>\n",
       "      <td>0.999474</td>\n",
       "    </tr>\n",
       "  </tbody>\n",
       "</table>\n",
       "</div>"
      ],
      "text/plain": [
       "           Model      MAE      RMSE      MAPE  R-squared  Adjusted R-squared\n",
       "0  Random Forest  0.00602  0.008945  0.136157   0.999476            0.999474"
      ]
     },
     "execution_count": 77,
     "metadata": {},
     "output_type": "execute_result"
    }
   ],
   "source": [
    "rf_pre_tuning_train_result_second"
   ]
  },
  {
   "cell_type": "code",
   "execution_count": 78,
   "id": "a7ebdfa6",
   "metadata": {},
   "outputs": [
    {
     "data": {
      "text/html": [
       "<div>\n",
       "<style scoped>\n",
       "    .dataframe tbody tr th:only-of-type {\n",
       "        vertical-align: middle;\n",
       "    }\n",
       "\n",
       "    .dataframe tbody tr th {\n",
       "        vertical-align: top;\n",
       "    }\n",
       "\n",
       "    .dataframe thead th {\n",
       "        text-align: right;\n",
       "    }\n",
       "</style>\n",
       "<table border=\"1\" class=\"dataframe\">\n",
       "  <thead>\n",
       "    <tr style=\"text-align: right;\">\n",
       "      <th></th>\n",
       "      <th>Model</th>\n",
       "      <th>MAE</th>\n",
       "      <th>RMSE</th>\n",
       "      <th>MAPE</th>\n",
       "      <th>R-squared</th>\n",
       "      <th>Adjusted R-squared</th>\n",
       "    </tr>\n",
       "  </thead>\n",
       "  <tbody>\n",
       "    <tr>\n",
       "      <th>0</th>\n",
       "      <td>Random Forest</td>\n",
       "      <td>0.010799</td>\n",
       "      <td>0.016004</td>\n",
       "      <td>0.243649</td>\n",
       "      <td>0.998333</td>\n",
       "      <td>0.998327</td>\n",
       "    </tr>\n",
       "  </tbody>\n",
       "</table>\n",
       "</div>"
      ],
      "text/plain": [
       "           Model       MAE      RMSE      MAPE  R-squared  Adjusted R-squared\n",
       "0  Random Forest  0.010799  0.016004  0.243649   0.998333            0.998327"
      ]
     },
     "execution_count": 78,
     "metadata": {},
     "output_type": "execute_result"
    }
   ],
   "source": [
    "rf_post_tuning_train_result_second"
   ]
  },
  {
   "cell_type": "code",
   "execution_count": 79,
   "id": "95626cc4",
   "metadata": {},
   "outputs": [
    {
     "data": {
      "text/html": [
       "<div>\n",
       "<style scoped>\n",
       "    .dataframe tbody tr th:only-of-type {\n",
       "        vertical-align: middle;\n",
       "    }\n",
       "\n",
       "    .dataframe tbody tr th {\n",
       "        vertical-align: top;\n",
       "    }\n",
       "\n",
       "    .dataframe thead th {\n",
       "        text-align: right;\n",
       "    }\n",
       "</style>\n",
       "<table border=\"1\" class=\"dataframe\">\n",
       "  <thead>\n",
       "    <tr style=\"text-align: right;\">\n",
       "      <th></th>\n",
       "      <th>Model</th>\n",
       "      <th>MAE</th>\n",
       "      <th>RMSE</th>\n",
       "      <th>MAPE</th>\n",
       "      <th>R-squared</th>\n",
       "      <th>Adjusted R-squared</th>\n",
       "    </tr>\n",
       "  </thead>\n",
       "  <tbody>\n",
       "    <tr>\n",
       "      <th>0</th>\n",
       "      <td>Stacked Regressor</td>\n",
       "      <td>0.015833</td>\n",
       "      <td>0.023182</td>\n",
       "      <td>0.356375</td>\n",
       "      <td>0.996528</td>\n",
       "      <td>0.996514</td>\n",
       "    </tr>\n",
       "  </tbody>\n",
       "</table>\n",
       "</div>"
      ],
      "text/plain": [
       "               Model       MAE      RMSE      MAPE  R-squared  \\\n",
       "0  Stacked Regressor  0.015833  0.023182  0.356375   0.996528   \n",
       "\n",
       "   Adjusted R-squared  \n",
       "0            0.996514  "
      ]
     },
     "execution_count": 79,
     "metadata": {},
     "output_type": "execute_result"
    }
   ],
   "source": [
    "stacked_reg_pre_tuning_train_result_second"
   ]
  },
  {
   "cell_type": "code",
   "execution_count": 80,
   "id": "4a4e4d22",
   "metadata": {},
   "outputs": [
    {
     "data": {
      "text/html": [
       "<div>\n",
       "<style scoped>\n",
       "    .dataframe tbody tr th:only-of-type {\n",
       "        vertical-align: middle;\n",
       "    }\n",
       "\n",
       "    .dataframe tbody tr th {\n",
       "        vertical-align: top;\n",
       "    }\n",
       "\n",
       "    .dataframe thead th {\n",
       "        text-align: right;\n",
       "    }\n",
       "</style>\n",
       "<table border=\"1\" class=\"dataframe\">\n",
       "  <thead>\n",
       "    <tr style=\"text-align: right;\">\n",
       "      <th></th>\n",
       "      <th>Model</th>\n",
       "      <th>MAE</th>\n",
       "      <th>RMSE</th>\n",
       "      <th>MAPE</th>\n",
       "      <th>R-squared</th>\n",
       "      <th>Adjusted R-squared</th>\n",
       "    </tr>\n",
       "  </thead>\n",
       "  <tbody>\n",
       "    <tr>\n",
       "      <th>0</th>\n",
       "      <td>Stacked Regressor</td>\n",
       "      <td>0.016414</td>\n",
       "      <td>0.024088</td>\n",
       "      <td>0.369121</td>\n",
       "      <td>0.996254</td>\n",
       "      <td>0.99624</td>\n",
       "    </tr>\n",
       "  </tbody>\n",
       "</table>\n",
       "</div>"
      ],
      "text/plain": [
       "               Model       MAE      RMSE      MAPE  R-squared  \\\n",
       "0  Stacked Regressor  0.016414  0.024088  0.369121   0.996254   \n",
       "\n",
       "   Adjusted R-squared  \n",
       "0             0.99624  "
      ]
     },
     "execution_count": 80,
     "metadata": {},
     "output_type": "execute_result"
    }
   ],
   "source": [
    "stacked_reg_post_tuning_train_result_second"
   ]
  },
  {
   "cell_type": "code",
   "execution_count": 81,
   "id": "434c553c",
   "metadata": {
    "scrolled": true
   },
   "outputs": [
    {
     "data": {
      "text/html": [
       "<div>\n",
       "<style scoped>\n",
       "    .dataframe tbody tr th:only-of-type {\n",
       "        vertical-align: middle;\n",
       "    }\n",
       "\n",
       "    .dataframe tbody tr th {\n",
       "        vertical-align: top;\n",
       "    }\n",
       "\n",
       "    .dataframe thead th {\n",
       "        text-align: right;\n",
       "    }\n",
       "</style>\n",
       "<table border=\"1\" class=\"dataframe\">\n",
       "  <thead>\n",
       "    <tr style=\"text-align: right;\">\n",
       "      <th></th>\n",
       "      <th>Model</th>\n",
       "      <th>MAE</th>\n",
       "      <th>RMSE</th>\n",
       "      <th>MAPE</th>\n",
       "      <th>R-squared</th>\n",
       "      <th>Adjusted R-squared</th>\n",
       "    </tr>\n",
       "  </thead>\n",
       "  <tbody>\n",
       "    <tr>\n",
       "      <th>0</th>\n",
       "      <td>RERF</td>\n",
       "      <td>0.005828</td>\n",
       "      <td>0.00854</td>\n",
       "      <td>0.131612</td>\n",
       "      <td>0.999522</td>\n",
       "      <td>0.99952</td>\n",
       "    </tr>\n",
       "  </tbody>\n",
       "</table>\n",
       "</div>"
      ],
      "text/plain": [
       "  Model       MAE     RMSE      MAPE  R-squared  Adjusted R-squared\n",
       "0  RERF  0.005828  0.00854  0.131612   0.999522             0.99952"
      ]
     },
     "execution_count": 81,
     "metadata": {},
     "output_type": "execute_result"
    }
   ],
   "source": [
    "rerf_pre_tuning_train_result_second"
   ]
  },
  {
   "cell_type": "code",
   "execution_count": 82,
   "id": "014d426f",
   "metadata": {
    "scrolled": true
   },
   "outputs": [
    {
     "data": {
      "text/html": [
       "<div>\n",
       "<style scoped>\n",
       "    .dataframe tbody tr th:only-of-type {\n",
       "        vertical-align: middle;\n",
       "    }\n",
       "\n",
       "    .dataframe tbody tr th {\n",
       "        vertical-align: top;\n",
       "    }\n",
       "\n",
       "    .dataframe thead th {\n",
       "        text-align: right;\n",
       "    }\n",
       "</style>\n",
       "<table border=\"1\" class=\"dataframe\">\n",
       "  <thead>\n",
       "    <tr style=\"text-align: right;\">\n",
       "      <th></th>\n",
       "      <th>Model</th>\n",
       "      <th>MAE</th>\n",
       "      <th>RMSE</th>\n",
       "      <th>MAPE</th>\n",
       "      <th>R-squared</th>\n",
       "    </tr>\n",
       "  </thead>\n",
       "  <tbody>\n",
       "    <tr>\n",
       "      <th>0</th>\n",
       "      <td>RERF</td>\n",
       "      <td>0.014303</td>\n",
       "      <td>0.020919</td>\n",
       "      <td>0.322136</td>\n",
       "      <td>0.997166</td>\n",
       "    </tr>\n",
       "  </tbody>\n",
       "</table>\n",
       "</div>"
      ],
      "text/plain": [
       "  Model       MAE      RMSE      MAPE  R-squared\n",
       "0  RERF  0.014303  0.020919  0.322136   0.997166"
      ]
     },
     "execution_count": 82,
     "metadata": {},
     "output_type": "execute_result"
    }
   ],
   "source": [
    "rerf_post_tuning_train_result_second"
   ]
  },
  {
   "cell_type": "markdown",
   "id": "59ca9659",
   "metadata": {},
   "source": [
    "## Restricted Models <a class=\"anchor\" id=\"restricted-models\"></a>"
   ]
  },
  {
   "cell_type": "markdown",
   "id": "83d31d6a",
   "metadata": {},
   "source": [
    "### MLR"
   ]
  },
  {
   "cell_type": "code",
   "execution_count": 87,
   "id": "d2f993b8",
   "metadata": {},
   "outputs": [],
   "source": [
    "lr_results_front_restricted = pd.read_csv('results_front_restricted_mlr.csv')\n",
    "lr_results_second_restricted = pd.read_csv('results_second_restricted_mlr.csv')"
   ]
  },
  {
   "cell_type": "code",
   "execution_count": 90,
   "id": "9b502e01",
   "metadata": {},
   "outputs": [
    {
     "data": {
      "text/html": [
       "<div>\n",
       "<style scoped>\n",
       "    .dataframe tbody tr th:only-of-type {\n",
       "        vertical-align: middle;\n",
       "    }\n",
       "\n",
       "    .dataframe tbody tr th {\n",
       "        vertical-align: top;\n",
       "    }\n",
       "\n",
       "    .dataframe thead th {\n",
       "        text-align: right;\n",
       "    }\n",
       "</style>\n",
       "<table border=\"1\" class=\"dataframe\">\n",
       "  <thead>\n",
       "    <tr style=\"text-align: right;\">\n",
       "      <th></th>\n",
       "      <th>Metric</th>\n",
       "      <th>Train</th>\n",
       "      <th>Test</th>\n",
       "    </tr>\n",
       "  </thead>\n",
       "  <tbody>\n",
       "    <tr>\n",
       "      <th>0</th>\n",
       "      <td>MAE</td>\n",
       "      <td>0.012641</td>\n",
       "      <td>0.009386</td>\n",
       "    </tr>\n",
       "    <tr>\n",
       "      <th>1</th>\n",
       "      <td>RMSE</td>\n",
       "      <td>0.020735</td>\n",
       "      <td>0.013452</td>\n",
       "    </tr>\n",
       "    <tr>\n",
       "      <th>2</th>\n",
       "      <td>MAPE</td>\n",
       "      <td>0.287532</td>\n",
       "      <td>0.198902</td>\n",
       "    </tr>\n",
       "    <tr>\n",
       "      <th>3</th>\n",
       "      <td>R-squared</td>\n",
       "      <td>0.997128</td>\n",
       "      <td>0.977883</td>\n",
       "    </tr>\n",
       "    <tr>\n",
       "      <th>4</th>\n",
       "      <td>Adjusted R-squared</td>\n",
       "      <td>0.997124</td>\n",
       "      <td>0.977639</td>\n",
       "    </tr>\n",
       "  </tbody>\n",
       "</table>\n",
       "</div>"
      ],
      "text/plain": [
       "               Metric     Train      Test\n",
       "0                 MAE  0.012641  0.009386\n",
       "1                RMSE  0.020735  0.013452\n",
       "2                MAPE  0.287532  0.198902\n",
       "3           R-squared  0.997128  0.977883\n",
       "4  Adjusted R-squared  0.997124  0.977639"
      ]
     },
     "execution_count": 90,
     "metadata": {},
     "output_type": "execute_result"
    }
   ],
   "source": [
    "lr_results_front_restricted"
   ]
  },
  {
   "cell_type": "code",
   "execution_count": 91,
   "id": "a5aa2461",
   "metadata": {},
   "outputs": [
    {
     "data": {
      "text/html": [
       "<div>\n",
       "<style scoped>\n",
       "    .dataframe tbody tr th:only-of-type {\n",
       "        vertical-align: middle;\n",
       "    }\n",
       "\n",
       "    .dataframe tbody tr th {\n",
       "        vertical-align: top;\n",
       "    }\n",
       "\n",
       "    .dataframe thead th {\n",
       "        text-align: right;\n",
       "    }\n",
       "</style>\n",
       "<table border=\"1\" class=\"dataframe\">\n",
       "  <thead>\n",
       "    <tr style=\"text-align: right;\">\n",
       "      <th></th>\n",
       "      <th>Metric</th>\n",
       "      <th>Train</th>\n",
       "      <th>Test</th>\n",
       "    </tr>\n",
       "  </thead>\n",
       "  <tbody>\n",
       "    <tr>\n",
       "      <th>0</th>\n",
       "      <td>MAE</td>\n",
       "      <td>0.017647</td>\n",
       "      <td>0.014923</td>\n",
       "    </tr>\n",
       "    <tr>\n",
       "      <th>1</th>\n",
       "      <td>RMSE</td>\n",
       "      <td>0.025237</td>\n",
       "      <td>0.019760</td>\n",
       "    </tr>\n",
       "    <tr>\n",
       "      <th>2</th>\n",
       "      <td>MAPE</td>\n",
       "      <td>0.399707</td>\n",
       "      <td>0.316676</td>\n",
       "    </tr>\n",
       "    <tr>\n",
       "      <th>3</th>\n",
       "      <td>R-squared</td>\n",
       "      <td>0.995789</td>\n",
       "      <td>0.952967</td>\n",
       "    </tr>\n",
       "    <tr>\n",
       "      <th>4</th>\n",
       "      <td>Adjusted R-squared</td>\n",
       "      <td>0.995782</td>\n",
       "      <td>0.952316</td>\n",
       "    </tr>\n",
       "  </tbody>\n",
       "</table>\n",
       "</div>"
      ],
      "text/plain": [
       "               Metric     Train      Test\n",
       "0                 MAE  0.017647  0.014923\n",
       "1                RMSE  0.025237  0.019760\n",
       "2                MAPE  0.399707  0.316676\n",
       "3           R-squared  0.995789  0.952967\n",
       "4  Adjusted R-squared  0.995782  0.952316"
      ]
     },
     "execution_count": 91,
     "metadata": {},
     "output_type": "execute_result"
    }
   ],
   "source": [
    "lr_results_second_restricted"
   ]
  },
  {
   "cell_type": "markdown",
   "id": "ddeefb58",
   "metadata": {},
   "source": [
    "### Random Forest"
   ]
  },
  {
   "cell_type": "code",
   "execution_count": 89,
   "id": "8d443161",
   "metadata": {},
   "outputs": [],
   "source": [
    "#Pre-tuning\n",
    "\n",
    "rf_pre_tuning_results_front_restricted = pd.read_csv('rf_results_front_restricted.csv')\n",
    "rf_pre_tuning_results_second_restricted = pd.read_csv('rf_results_second_restricted.csv')\n",
    "\n",
    "#Post-tuning \n",
    "rf_post_tuning_results_front_restricted = pd.read_csv('rf_tuned_results_front_restricted.csv')\n",
    "rf_post_tuning_results_second_restricted = pd.read_csv('rf_tuned_results_second_restricted.csv')"
   ]
  },
  {
   "cell_type": "code",
   "execution_count": 92,
   "id": "22e69d1c",
   "metadata": {},
   "outputs": [
    {
     "data": {
      "text/html": [
       "<div>\n",
       "<style scoped>\n",
       "    .dataframe tbody tr th:only-of-type {\n",
       "        vertical-align: middle;\n",
       "    }\n",
       "\n",
       "    .dataframe tbody tr th {\n",
       "        vertical-align: top;\n",
       "    }\n",
       "\n",
       "    .dataframe thead th {\n",
       "        text-align: right;\n",
       "    }\n",
       "</style>\n",
       "<table border=\"1\" class=\"dataframe\">\n",
       "  <thead>\n",
       "    <tr style=\"text-align: right;\">\n",
       "      <th></th>\n",
       "      <th>Metric</th>\n",
       "      <th>Train</th>\n",
       "      <th>Test</th>\n",
       "    </tr>\n",
       "  </thead>\n",
       "  <tbody>\n",
       "    <tr>\n",
       "      <th>0</th>\n",
       "      <td>MAE</td>\n",
       "      <td>0.005489</td>\n",
       "      <td>0.011301</td>\n",
       "    </tr>\n",
       "    <tr>\n",
       "      <th>1</th>\n",
       "      <td>RMSE</td>\n",
       "      <td>0.009796</td>\n",
       "      <td>0.015717</td>\n",
       "    </tr>\n",
       "    <tr>\n",
       "      <th>2</th>\n",
       "      <td>MAPE</td>\n",
       "      <td>0.123750</td>\n",
       "      <td>0.239338</td>\n",
       "    </tr>\n",
       "    <tr>\n",
       "      <th>3</th>\n",
       "      <td>R-squared</td>\n",
       "      <td>0.999359</td>\n",
       "      <td>0.969808</td>\n",
       "    </tr>\n",
       "    <tr>\n",
       "      <th>4</th>\n",
       "      <td>Adjusted R-squared</td>\n",
       "      <td>0.999358</td>\n",
       "      <td>0.969474</td>\n",
       "    </tr>\n",
       "  </tbody>\n",
       "</table>\n",
       "</div>"
      ],
      "text/plain": [
       "               Metric     Train      Test\n",
       "0                 MAE  0.005489  0.011301\n",
       "1                RMSE  0.009796  0.015717\n",
       "2                MAPE  0.123750  0.239338\n",
       "3           R-squared  0.999359  0.969808\n",
       "4  Adjusted R-squared  0.999358  0.969474"
      ]
     },
     "execution_count": 92,
     "metadata": {},
     "output_type": "execute_result"
    }
   ],
   "source": [
    "rf_pre_tuning_results_front_restricted"
   ]
  },
  {
   "cell_type": "code",
   "execution_count": 93,
   "id": "d6179e47",
   "metadata": {},
   "outputs": [
    {
     "data": {
      "text/html": [
       "<div>\n",
       "<style scoped>\n",
       "    .dataframe tbody tr th:only-of-type {\n",
       "        vertical-align: middle;\n",
       "    }\n",
       "\n",
       "    .dataframe tbody tr th {\n",
       "        vertical-align: top;\n",
       "    }\n",
       "\n",
       "    .dataframe thead th {\n",
       "        text-align: right;\n",
       "    }\n",
       "</style>\n",
       "<table border=\"1\" class=\"dataframe\">\n",
       "  <thead>\n",
       "    <tr style=\"text-align: right;\">\n",
       "      <th></th>\n",
       "      <th>Metric</th>\n",
       "      <th>Train</th>\n",
       "      <th>Test</th>\n",
       "    </tr>\n",
       "  </thead>\n",
       "  <tbody>\n",
       "    <tr>\n",
       "      <th>0</th>\n",
       "      <td>MAE</td>\n",
       "      <td>0.008397</td>\n",
       "      <td>0.018106</td>\n",
       "    </tr>\n",
       "    <tr>\n",
       "      <th>1</th>\n",
       "      <td>RMSE</td>\n",
       "      <td>0.012237</td>\n",
       "      <td>0.023293</td>\n",
       "    </tr>\n",
       "    <tr>\n",
       "      <th>2</th>\n",
       "      <td>MAPE</td>\n",
       "      <td>0.190304</td>\n",
       "      <td>0.383591</td>\n",
       "    </tr>\n",
       "    <tr>\n",
       "      <th>3</th>\n",
       "      <td>R-squared</td>\n",
       "      <td>0.999010</td>\n",
       "      <td>0.934644</td>\n",
       "    </tr>\n",
       "    <tr>\n",
       "      <th>4</th>\n",
       "      <td>Adjusted R-squared</td>\n",
       "      <td>0.999008</td>\n",
       "      <td>0.933739</td>\n",
       "    </tr>\n",
       "  </tbody>\n",
       "</table>\n",
       "</div>"
      ],
      "text/plain": [
       "               Metric     Train      Test\n",
       "0                 MAE  0.008397  0.018106\n",
       "1                RMSE  0.012237  0.023293\n",
       "2                MAPE  0.190304  0.383591\n",
       "3           R-squared  0.999010  0.934644\n",
       "4  Adjusted R-squared  0.999008  0.933739"
      ]
     },
     "execution_count": 93,
     "metadata": {},
     "output_type": "execute_result"
    }
   ],
   "source": [
    "rf_pre_tuning_results_second_restricted"
   ]
  },
  {
   "cell_type": "code",
   "execution_count": 94,
   "id": "206816df",
   "metadata": {},
   "outputs": [
    {
     "data": {
      "text/html": [
       "<div>\n",
       "<style scoped>\n",
       "    .dataframe tbody tr th:only-of-type {\n",
       "        vertical-align: middle;\n",
       "    }\n",
       "\n",
       "    .dataframe tbody tr th {\n",
       "        vertical-align: top;\n",
       "    }\n",
       "\n",
       "    .dataframe thead th {\n",
       "        text-align: right;\n",
       "    }\n",
       "</style>\n",
       "<table border=\"1\" class=\"dataframe\">\n",
       "  <thead>\n",
       "    <tr style=\"text-align: right;\">\n",
       "      <th></th>\n",
       "      <th>Metric</th>\n",
       "      <th>Train</th>\n",
       "      <th>Test</th>\n",
       "    </tr>\n",
       "  </thead>\n",
       "  <tbody>\n",
       "    <tr>\n",
       "      <th>0</th>\n",
       "      <td>MAE</td>\n",
       "      <td>0.008606</td>\n",
       "      <td>0.011096</td>\n",
       "    </tr>\n",
       "    <tr>\n",
       "      <th>1</th>\n",
       "      <td>RMSE</td>\n",
       "      <td>0.014968</td>\n",
       "      <td>0.015272</td>\n",
       "    </tr>\n",
       "    <tr>\n",
       "      <th>2</th>\n",
       "      <td>MAPE</td>\n",
       "      <td>0.194409</td>\n",
       "      <td>0.235179</td>\n",
       "    </tr>\n",
       "    <tr>\n",
       "      <th>3</th>\n",
       "      <td>R-squared</td>\n",
       "      <td>0.998504</td>\n",
       "      <td>0.971493</td>\n",
       "    </tr>\n",
       "    <tr>\n",
       "      <th>4</th>\n",
       "      <td>Adjusted R-squared</td>\n",
       "      <td>0.998501</td>\n",
       "      <td>0.971178</td>\n",
       "    </tr>\n",
       "  </tbody>\n",
       "</table>\n",
       "</div>"
      ],
      "text/plain": [
       "               Metric     Train      Test\n",
       "0                 MAE  0.008606  0.011096\n",
       "1                RMSE  0.014968  0.015272\n",
       "2                MAPE  0.194409  0.235179\n",
       "3           R-squared  0.998504  0.971493\n",
       "4  Adjusted R-squared  0.998501  0.971178"
      ]
     },
     "execution_count": 94,
     "metadata": {},
     "output_type": "execute_result"
    }
   ],
   "source": [
    "rf_post_tuning_results_front_restricted"
   ]
  },
  {
   "cell_type": "code",
   "execution_count": 95,
   "id": "cc32658e",
   "metadata": {},
   "outputs": [
    {
     "data": {
      "text/html": [
       "<div>\n",
       "<style scoped>\n",
       "    .dataframe tbody tr th:only-of-type {\n",
       "        vertical-align: middle;\n",
       "    }\n",
       "\n",
       "    .dataframe tbody tr th {\n",
       "        vertical-align: top;\n",
       "    }\n",
       "\n",
       "    .dataframe thead th {\n",
       "        text-align: right;\n",
       "    }\n",
       "</style>\n",
       "<table border=\"1\" class=\"dataframe\">\n",
       "  <thead>\n",
       "    <tr style=\"text-align: right;\">\n",
       "      <th></th>\n",
       "      <th>Metric</th>\n",
       "      <th>Train</th>\n",
       "      <th>Test</th>\n",
       "    </tr>\n",
       "  </thead>\n",
       "  <tbody>\n",
       "    <tr>\n",
       "      <th>0</th>\n",
       "      <td>MAE</td>\n",
       "      <td>0.011866</td>\n",
       "      <td>0.017264</td>\n",
       "    </tr>\n",
       "    <tr>\n",
       "      <th>1</th>\n",
       "      <td>RMSE</td>\n",
       "      <td>0.017383</td>\n",
       "      <td>0.022245</td>\n",
       "    </tr>\n",
       "    <tr>\n",
       "      <th>2</th>\n",
       "      <td>MAPE</td>\n",
       "      <td>0.268938</td>\n",
       "      <td>0.365913</td>\n",
       "    </tr>\n",
       "    <tr>\n",
       "      <th>3</th>\n",
       "      <td>R-squared</td>\n",
       "      <td>0.998002</td>\n",
       "      <td>0.940392</td>\n",
       "    </tr>\n",
       "    <tr>\n",
       "      <th>4</th>\n",
       "      <td>Adjusted R-squared</td>\n",
       "      <td>0.997999</td>\n",
       "      <td>0.939567</td>\n",
       "    </tr>\n",
       "  </tbody>\n",
       "</table>\n",
       "</div>"
      ],
      "text/plain": [
       "               Metric     Train      Test\n",
       "0                 MAE  0.011866  0.017264\n",
       "1                RMSE  0.017383  0.022245\n",
       "2                MAPE  0.268938  0.365913\n",
       "3           R-squared  0.998002  0.940392\n",
       "4  Adjusted R-squared  0.997999  0.939567"
      ]
     },
     "execution_count": 95,
     "metadata": {},
     "output_type": "execute_result"
    }
   ],
   "source": [
    "rf_post_tuning_results_second_restricted"
   ]
  },
  {
   "cell_type": "markdown",
   "id": "c2ecc79a",
   "metadata": {},
   "source": [
    "### Stacked Regressor "
   ]
  },
  {
   "cell_type": "code",
   "execution_count": 97,
   "id": "596fb0c5",
   "metadata": {},
   "outputs": [],
   "source": [
    "#Pre-tuning \n",
    "stacked_reg_pre_tuning_result_front_restricted = pd.read_csv('stacked_reg_results_front_pre_tuning.csv')\n",
    "stacked_reg_pre_tuning_result_second_restricted = pd.read_csv('stacked_reg_results_second_pre_tuning.csv')\n",
    "\n",
    "#Post-tuning \n",
    "stacked_reg_post_tuning_result_front_restricted = pd.read_csv('stacked_reg_results_front_post_tuning.csv')\n",
    "stacked_reg_post_tuning_result_second_restricted = pd.read_csv('stacked_reg_results_second_post_tuning.csv')"
   ]
  },
  {
   "cell_type": "code",
   "execution_count": 98,
   "id": "ec59398b",
   "metadata": {},
   "outputs": [
    {
     "data": {
      "text/html": [
       "<div>\n",
       "<style scoped>\n",
       "    .dataframe tbody tr th:only-of-type {\n",
       "        vertical-align: middle;\n",
       "    }\n",
       "\n",
       "    .dataframe tbody tr th {\n",
       "        vertical-align: top;\n",
       "    }\n",
       "\n",
       "    .dataframe thead th {\n",
       "        text-align: right;\n",
       "    }\n",
       "</style>\n",
       "<table border=\"1\" class=\"dataframe\">\n",
       "  <thead>\n",
       "    <tr style=\"text-align: right;\">\n",
       "      <th></th>\n",
       "      <th>Metric</th>\n",
       "      <th>Train</th>\n",
       "      <th>Test</th>\n",
       "    </tr>\n",
       "  </thead>\n",
       "  <tbody>\n",
       "    <tr>\n",
       "      <th>0</th>\n",
       "      <td>MAE</td>\n",
       "      <td>0.012249</td>\n",
       "      <td>0.009285</td>\n",
       "    </tr>\n",
       "    <tr>\n",
       "      <th>1</th>\n",
       "      <td>RMSE</td>\n",
       "      <td>0.019909</td>\n",
       "      <td>0.013400</td>\n",
       "    </tr>\n",
       "    <tr>\n",
       "      <th>2</th>\n",
       "      <td>MAPE</td>\n",
       "      <td>0.278758</td>\n",
       "      <td>0.196859</td>\n",
       "    </tr>\n",
       "    <tr>\n",
       "      <th>3</th>\n",
       "      <td>R-squared</td>\n",
       "      <td>0.997352</td>\n",
       "      <td>0.978053</td>\n",
       "    </tr>\n",
       "    <tr>\n",
       "      <th>4</th>\n",
       "      <td>Adjusted R-squared</td>\n",
       "      <td>0.997349</td>\n",
       "      <td>0.977811</td>\n",
       "    </tr>\n",
       "  </tbody>\n",
       "</table>\n",
       "</div>"
      ],
      "text/plain": [
       "               Metric     Train      Test\n",
       "0                 MAE  0.012249  0.009285\n",
       "1                RMSE  0.019909  0.013400\n",
       "2                MAPE  0.278758  0.196859\n",
       "3           R-squared  0.997352  0.978053\n",
       "4  Adjusted R-squared  0.997349  0.977811"
      ]
     },
     "execution_count": 98,
     "metadata": {},
     "output_type": "execute_result"
    }
   ],
   "source": [
    "stacked_reg_pre_tuning_result_front_restricted"
   ]
  },
  {
   "cell_type": "code",
   "execution_count": 99,
   "id": "9d974326",
   "metadata": {},
   "outputs": [
    {
     "data": {
      "text/html": [
       "<div>\n",
       "<style scoped>\n",
       "    .dataframe tbody tr th:only-of-type {\n",
       "        vertical-align: middle;\n",
       "    }\n",
       "\n",
       "    .dataframe tbody tr th {\n",
       "        vertical-align: top;\n",
       "    }\n",
       "\n",
       "    .dataframe thead th {\n",
       "        text-align: right;\n",
       "    }\n",
       "</style>\n",
       "<table border=\"1\" class=\"dataframe\">\n",
       "  <thead>\n",
       "    <tr style=\"text-align: right;\">\n",
       "      <th></th>\n",
       "      <th>Metric</th>\n",
       "      <th>Train</th>\n",
       "      <th>Test</th>\n",
       "    </tr>\n",
       "  </thead>\n",
       "  <tbody>\n",
       "    <tr>\n",
       "      <th>0</th>\n",
       "      <td>MAE</td>\n",
       "      <td>0.016800</td>\n",
       "      <td>0.014939</td>\n",
       "    </tr>\n",
       "    <tr>\n",
       "      <th>1</th>\n",
       "      <td>RMSE</td>\n",
       "      <td>0.024098</td>\n",
       "      <td>0.019904</td>\n",
       "    </tr>\n",
       "    <tr>\n",
       "      <th>2</th>\n",
       "      <td>MAPE</td>\n",
       "      <td>0.380707</td>\n",
       "      <td>0.317109</td>\n",
       "    </tr>\n",
       "    <tr>\n",
       "      <th>3</th>\n",
       "      <td>R-squared</td>\n",
       "      <td>0.996161</td>\n",
       "      <td>0.952277</td>\n",
       "    </tr>\n",
       "    <tr>\n",
       "      <th>4</th>\n",
       "      <td>Adjusted R-squared</td>\n",
       "      <td>0.996154</td>\n",
       "      <td>0.951616</td>\n",
       "    </tr>\n",
       "  </tbody>\n",
       "</table>\n",
       "</div>"
      ],
      "text/plain": [
       "               Metric     Train      Test\n",
       "0                 MAE  0.016800  0.014939\n",
       "1                RMSE  0.024098  0.019904\n",
       "2                MAPE  0.380707  0.317109\n",
       "3           R-squared  0.996161  0.952277\n",
       "4  Adjusted R-squared  0.996154  0.951616"
      ]
     },
     "execution_count": 99,
     "metadata": {},
     "output_type": "execute_result"
    }
   ],
   "source": [
    "stacked_reg_pre_tuning_result_second_restricted"
   ]
  },
  {
   "cell_type": "code",
   "execution_count": 100,
   "id": "9f05f368",
   "metadata": {},
   "outputs": [
    {
     "data": {
      "text/html": [
       "<div>\n",
       "<style scoped>\n",
       "    .dataframe tbody tr th:only-of-type {\n",
       "        vertical-align: middle;\n",
       "    }\n",
       "\n",
       "    .dataframe tbody tr th {\n",
       "        vertical-align: top;\n",
       "    }\n",
       "\n",
       "    .dataframe thead th {\n",
       "        text-align: right;\n",
       "    }\n",
       "</style>\n",
       "<table border=\"1\" class=\"dataframe\">\n",
       "  <thead>\n",
       "    <tr style=\"text-align: right;\">\n",
       "      <th></th>\n",
       "      <th>Metric</th>\n",
       "      <th>Train</th>\n",
       "      <th>Test</th>\n",
       "    </tr>\n",
       "  </thead>\n",
       "  <tbody>\n",
       "    <tr>\n",
       "      <th>0</th>\n",
       "      <td>MAE</td>\n",
       "      <td>0.012731</td>\n",
       "      <td>0.009300</td>\n",
       "    </tr>\n",
       "    <tr>\n",
       "      <th>1</th>\n",
       "      <td>RMSE</td>\n",
       "      <td>0.020837</td>\n",
       "      <td>0.013387</td>\n",
       "    </tr>\n",
       "    <tr>\n",
       "      <th>2</th>\n",
       "      <td>MAPE</td>\n",
       "      <td>0.289500</td>\n",
       "      <td>0.197086</td>\n",
       "    </tr>\n",
       "    <tr>\n",
       "      <th>3</th>\n",
       "      <td>R-squared</td>\n",
       "      <td>0.997100</td>\n",
       "      <td>0.978098</td>\n",
       "    </tr>\n",
       "    <tr>\n",
       "      <th>4</th>\n",
       "      <td>Adjusted R-squared</td>\n",
       "      <td>0.997096</td>\n",
       "      <td>0.977856</td>\n",
       "    </tr>\n",
       "  </tbody>\n",
       "</table>\n",
       "</div>"
      ],
      "text/plain": [
       "               Metric     Train      Test\n",
       "0                 MAE  0.012731  0.009300\n",
       "1                RMSE  0.020837  0.013387\n",
       "2                MAPE  0.289500  0.197086\n",
       "3           R-squared  0.997100  0.978098\n",
       "4  Adjusted R-squared  0.997096  0.977856"
      ]
     },
     "execution_count": 100,
     "metadata": {},
     "output_type": "execute_result"
    }
   ],
   "source": [
    "stacked_reg_post_tuning_result_front_restricted"
   ]
  },
  {
   "cell_type": "code",
   "execution_count": 101,
   "id": "7232ff64",
   "metadata": {},
   "outputs": [
    {
     "data": {
      "text/html": [
       "<div>\n",
       "<style scoped>\n",
       "    .dataframe tbody tr th:only-of-type {\n",
       "        vertical-align: middle;\n",
       "    }\n",
       "\n",
       "    .dataframe tbody tr th {\n",
       "        vertical-align: top;\n",
       "    }\n",
       "\n",
       "    .dataframe thead th {\n",
       "        text-align: right;\n",
       "    }\n",
       "</style>\n",
       "<table border=\"1\" class=\"dataframe\">\n",
       "  <thead>\n",
       "    <tr style=\"text-align: right;\">\n",
       "      <th></th>\n",
       "      <th>Metric</th>\n",
       "      <th>Train</th>\n",
       "      <th>Test</th>\n",
       "    </tr>\n",
       "  </thead>\n",
       "  <tbody>\n",
       "    <tr>\n",
       "      <th>0</th>\n",
       "      <td>MAE</td>\n",
       "      <td>0.017587</td>\n",
       "      <td>0.015135</td>\n",
       "    </tr>\n",
       "    <tr>\n",
       "      <th>1</th>\n",
       "      <td>RMSE</td>\n",
       "      <td>0.025144</td>\n",
       "      <td>0.019967</td>\n",
       "    </tr>\n",
       "    <tr>\n",
       "      <th>2</th>\n",
       "      <td>MAPE</td>\n",
       "      <td>0.398323</td>\n",
       "      <td>0.321151</td>\n",
       "    </tr>\n",
       "    <tr>\n",
       "      <th>3</th>\n",
       "      <td>R-squared</td>\n",
       "      <td>0.995820</td>\n",
       "      <td>0.951977</td>\n",
       "    </tr>\n",
       "    <tr>\n",
       "      <th>4</th>\n",
       "      <td>Adjusted R-squared</td>\n",
       "      <td>0.995813</td>\n",
       "      <td>0.951312</td>\n",
       "    </tr>\n",
       "  </tbody>\n",
       "</table>\n",
       "</div>"
      ],
      "text/plain": [
       "               Metric     Train      Test\n",
       "0                 MAE  0.017587  0.015135\n",
       "1                RMSE  0.025144  0.019967\n",
       "2                MAPE  0.398323  0.321151\n",
       "3           R-squared  0.995820  0.951977\n",
       "4  Adjusted R-squared  0.995813  0.951312"
      ]
     },
     "execution_count": 101,
     "metadata": {},
     "output_type": "execute_result"
    }
   ],
   "source": [
    "stacked_reg_post_tuning_result_second_restricted"
   ]
  },
  {
   "cell_type": "markdown",
   "id": "ad1030e8",
   "metadata": {},
   "source": [
    "### RERF"
   ]
  },
  {
   "cell_type": "code",
   "execution_count": 103,
   "id": "73da77b9",
   "metadata": {
    "scrolled": true
   },
   "outputs": [],
   "source": [
    "#Pre-tuning\n",
    "\n",
    "rerf_pre_tuning_result_front_restricted = pd.read_csv('rerf_results_front_pre_tuning.csv')\n",
    "rerf_pre_tuning_result_second_restricted = pd.read_csv('rerf_results_second_pre_tuning.csv')\n",
    "\n",
    "#Post-tuning \n",
    "rerf_post_tuning_result_front_restricted = pd.read_csv('rerf_results_front_post_tuning.csv')\n",
    "rerf_post_tuning_result_second_restricted = pd.read_csv('rerf_results_second_post_tuning.csv')"
   ]
  },
  {
   "cell_type": "code",
   "execution_count": 104,
   "id": "9a8d053d",
   "metadata": {},
   "outputs": [
    {
     "data": {
      "text/html": [
       "<div>\n",
       "<style scoped>\n",
       "    .dataframe tbody tr th:only-of-type {\n",
       "        vertical-align: middle;\n",
       "    }\n",
       "\n",
       "    .dataframe tbody tr th {\n",
       "        vertical-align: top;\n",
       "    }\n",
       "\n",
       "    .dataframe thead th {\n",
       "        text-align: right;\n",
       "    }\n",
       "</style>\n",
       "<table border=\"1\" class=\"dataframe\">\n",
       "  <thead>\n",
       "    <tr style=\"text-align: right;\">\n",
       "      <th></th>\n",
       "      <th>Metric</th>\n",
       "      <th>Train</th>\n",
       "      <th>Test</th>\n",
       "    </tr>\n",
       "  </thead>\n",
       "  <tbody>\n",
       "    <tr>\n",
       "      <th>0</th>\n",
       "      <td>MAE</td>\n",
       "      <td>0.005315</td>\n",
       "      <td>0.013666</td>\n",
       "    </tr>\n",
       "    <tr>\n",
       "      <th>1</th>\n",
       "      <td>RMSE</td>\n",
       "      <td>0.009586</td>\n",
       "      <td>0.017723</td>\n",
       "    </tr>\n",
       "    <tr>\n",
       "      <th>2</th>\n",
       "      <td>MAPE</td>\n",
       "      <td>0.119898</td>\n",
       "      <td>0.288943</td>\n",
       "    </tr>\n",
       "    <tr>\n",
       "      <th>3</th>\n",
       "      <td>R-squared</td>\n",
       "      <td>0.999386</td>\n",
       "      <td>0.961608</td>\n",
       "    </tr>\n",
       "    <tr>\n",
       "      <th>4</th>\n",
       "      <td>Adjusted R-squared</td>\n",
       "      <td>0.999385</td>\n",
       "      <td>0.961184</td>\n",
       "    </tr>\n",
       "  </tbody>\n",
       "</table>\n",
       "</div>"
      ],
      "text/plain": [
       "               Metric     Train      Test\n",
       "0                 MAE  0.005315  0.013666\n",
       "1                RMSE  0.009586  0.017723\n",
       "2                MAPE  0.119898  0.288943\n",
       "3           R-squared  0.999386  0.961608\n",
       "4  Adjusted R-squared  0.999385  0.961184"
      ]
     },
     "execution_count": 104,
     "metadata": {},
     "output_type": "execute_result"
    }
   ],
   "source": [
    "rerf_pre_tuning_result_front_restricted"
   ]
  },
  {
   "cell_type": "code",
   "execution_count": 105,
   "id": "a5b5cf73",
   "metadata": {},
   "outputs": [
    {
     "data": {
      "text/html": [
       "<div>\n",
       "<style scoped>\n",
       "    .dataframe tbody tr th:only-of-type {\n",
       "        vertical-align: middle;\n",
       "    }\n",
       "\n",
       "    .dataframe tbody tr th {\n",
       "        vertical-align: top;\n",
       "    }\n",
       "\n",
       "    .dataframe thead th {\n",
       "        text-align: right;\n",
       "    }\n",
       "</style>\n",
       "<table border=\"1\" class=\"dataframe\">\n",
       "  <thead>\n",
       "    <tr style=\"text-align: right;\">\n",
       "      <th></th>\n",
       "      <th>Metric</th>\n",
       "      <th>Train</th>\n",
       "      <th>Test</th>\n",
       "    </tr>\n",
       "  </thead>\n",
       "  <tbody>\n",
       "    <tr>\n",
       "      <th>0</th>\n",
       "      <td>MAE</td>\n",
       "      <td>0.008294</td>\n",
       "      <td>0.017504</td>\n",
       "    </tr>\n",
       "    <tr>\n",
       "      <th>1</th>\n",
       "      <td>RMSE</td>\n",
       "      <td>0.012116</td>\n",
       "      <td>0.023254</td>\n",
       "    </tr>\n",
       "    <tr>\n",
       "      <th>2</th>\n",
       "      <td>MAPE</td>\n",
       "      <td>0.187889</td>\n",
       "      <td>0.371158</td>\n",
       "    </tr>\n",
       "    <tr>\n",
       "      <th>3</th>\n",
       "      <td>R-squared</td>\n",
       "      <td>0.999029</td>\n",
       "      <td>0.934864</td>\n",
       "    </tr>\n",
       "    <tr>\n",
       "      <th>4</th>\n",
       "      <td>Adjusted R-squared</td>\n",
       "      <td>0.999028</td>\n",
       "      <td>0.933962</td>\n",
       "    </tr>\n",
       "  </tbody>\n",
       "</table>\n",
       "</div>"
      ],
      "text/plain": [
       "               Metric     Train      Test\n",
       "0                 MAE  0.008294  0.017504\n",
       "1                RMSE  0.012116  0.023254\n",
       "2                MAPE  0.187889  0.371158\n",
       "3           R-squared  0.999029  0.934864\n",
       "4  Adjusted R-squared  0.999028  0.933962"
      ]
     },
     "execution_count": 105,
     "metadata": {},
     "output_type": "execute_result"
    }
   ],
   "source": [
    "rerf_pre_tuning_result_second_restricted"
   ]
  },
  {
   "cell_type": "code",
   "execution_count": 106,
   "id": "68eb6e6e",
   "metadata": {},
   "outputs": [
    {
     "data": {
      "text/html": [
       "<div>\n",
       "<style scoped>\n",
       "    .dataframe tbody tr th:only-of-type {\n",
       "        vertical-align: middle;\n",
       "    }\n",
       "\n",
       "    .dataframe tbody tr th {\n",
       "        vertical-align: top;\n",
       "    }\n",
       "\n",
       "    .dataframe thead th {\n",
       "        text-align: right;\n",
       "    }\n",
       "</style>\n",
       "<table border=\"1\" class=\"dataframe\">\n",
       "  <thead>\n",
       "    <tr style=\"text-align: right;\">\n",
       "      <th></th>\n",
       "      <th>Metric</th>\n",
       "      <th>Train</th>\n",
       "      <th>Test</th>\n",
       "    </tr>\n",
       "  </thead>\n",
       "  <tbody>\n",
       "    <tr>\n",
       "      <th>0</th>\n",
       "      <td>MAE</td>\n",
       "      <td>0.010143</td>\n",
       "      <td>0.011545</td>\n",
       "    </tr>\n",
       "    <tr>\n",
       "      <th>1</th>\n",
       "      <td>RMSE</td>\n",
       "      <td>0.017010</td>\n",
       "      <td>0.015178</td>\n",
       "    </tr>\n",
       "    <tr>\n",
       "      <th>2</th>\n",
       "      <td>MAPE</td>\n",
       "      <td>0.229232</td>\n",
       "      <td>0.244169</td>\n",
       "    </tr>\n",
       "    <tr>\n",
       "      <th>3</th>\n",
       "      <td>R-squared</td>\n",
       "      <td>0.998067</td>\n",
       "      <td>0.971844</td>\n",
       "    </tr>\n",
       "    <tr>\n",
       "      <th>4</th>\n",
       "      <td>Adjusted R-squared</td>\n",
       "      <td>0.998064</td>\n",
       "      <td>0.971533</td>\n",
       "    </tr>\n",
       "  </tbody>\n",
       "</table>\n",
       "</div>"
      ],
      "text/plain": [
       "               Metric     Train      Test\n",
       "0                 MAE  0.010143  0.011545\n",
       "1                RMSE  0.017010  0.015178\n",
       "2                MAPE  0.229232  0.244169\n",
       "3           R-squared  0.998067  0.971844\n",
       "4  Adjusted R-squared  0.998064  0.971533"
      ]
     },
     "execution_count": 106,
     "metadata": {},
     "output_type": "execute_result"
    }
   ],
   "source": [
    "rerf_post_tuning_result_front_restricted"
   ]
  },
  {
   "cell_type": "code",
   "execution_count": 107,
   "id": "73ca347e",
   "metadata": {},
   "outputs": [
    {
     "data": {
      "text/html": [
       "<div>\n",
       "<style scoped>\n",
       "    .dataframe tbody tr th:only-of-type {\n",
       "        vertical-align: middle;\n",
       "    }\n",
       "\n",
       "    .dataframe tbody tr th {\n",
       "        vertical-align: top;\n",
       "    }\n",
       "\n",
       "    .dataframe thead th {\n",
       "        text-align: right;\n",
       "    }\n",
       "</style>\n",
       "<table border=\"1\" class=\"dataframe\">\n",
       "  <thead>\n",
       "    <tr style=\"text-align: right;\">\n",
       "      <th></th>\n",
       "      <th>Metric</th>\n",
       "      <th>Train</th>\n",
       "      <th>Test</th>\n",
       "    </tr>\n",
       "  </thead>\n",
       "  <tbody>\n",
       "    <tr>\n",
       "      <th>0</th>\n",
       "      <td>MAE</td>\n",
       "      <td>0.014966</td>\n",
       "      <td>0.015460</td>\n",
       "    </tr>\n",
       "    <tr>\n",
       "      <th>1</th>\n",
       "      <td>RMSE</td>\n",
       "      <td>0.021444</td>\n",
       "      <td>0.020664</td>\n",
       "    </tr>\n",
       "    <tr>\n",
       "      <th>2</th>\n",
       "      <td>MAPE</td>\n",
       "      <td>0.339135</td>\n",
       "      <td>0.328210</td>\n",
       "    </tr>\n",
       "    <tr>\n",
       "      <th>3</th>\n",
       "      <td>R-squared</td>\n",
       "      <td>0.996960</td>\n",
       "      <td>0.948568</td>\n",
       "    </tr>\n",
       "    <tr>\n",
       "      <th>4</th>\n",
       "      <td>Adjusted R-squared</td>\n",
       "      <td>0.996954</td>\n",
       "      <td>0.947855</td>\n",
       "    </tr>\n",
       "  </tbody>\n",
       "</table>\n",
       "</div>"
      ],
      "text/plain": [
       "               Metric     Train      Test\n",
       "0                 MAE  0.014966  0.015460\n",
       "1                RMSE  0.021444  0.020664\n",
       "2                MAPE  0.339135  0.328210\n",
       "3           R-squared  0.996960  0.948568\n",
       "4  Adjusted R-squared  0.996954  0.947855"
      ]
     },
     "execution_count": 107,
     "metadata": {},
     "output_type": "execute_result"
    }
   ],
   "source": [
    "rerf_post_tuning_result_second_restricted"
   ]
  },
  {
   "cell_type": "markdown",
   "id": "514020ae",
   "metadata": {},
   "source": [
    "## PCA Loadings "
   ]
  },
  {
   "cell_type": "code",
   "execution_count": null,
   "id": "5d8854b2",
   "metadata": {},
   "outputs": [],
   "source": [
    "pca_loadings_front = pd.read_csv('pca_loadings_front.csv')\n",
    "pca_loadings_second = pd.read_csv('pca_loadings_second.csv')"
   ]
  }
 ],
 "metadata": {
  "kernelspec": {
   "display_name": "Python 3 (ipykernel)",
   "language": "python",
   "name": "python3"
  },
  "language_info": {
   "codemirror_mode": {
    "name": "ipython",
    "version": 3
   },
   "file_extension": ".py",
   "mimetype": "text/x-python",
   "name": "python",
   "nbconvert_exporter": "python",
   "pygments_lexer": "ipython3",
   "version": "3.11.4"
  }
 },
 "nbformat": 4,
 "nbformat_minor": 5
}
